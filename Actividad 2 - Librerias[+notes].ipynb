{
  "nbformat": 4,
  "nbformat_minor": 0,
  "metadata": {
    "colab": {
      "name": "Actividad 2 - Librerias.ipynb",
      "version": "0.3.2",
      "provenance": []
    },
    "kernelspec": {
      "display_name": "Python 3",
      "language": "python",
      "name": "python3"
    }
  },
  "cells": [
    {
      "metadata": {
        "id": "87uCu_oMYjGo",
        "colab_type": "text"
      },
      "cell_type": "markdown",
      "source": [
        "# EI2001: Ciencia de Datos en Astronomía\n",
        "**Profesores:** Pía Cortés, Daniela Barrientos, Matías Suazo, Matías Mattamala\n",
        "\n",
        "# Actividad Clase 2 - Uso de Librerías\n",
        "\n",
        "**Objetivos:** \n",
        "1. Aprender sobre el uso de paquetes en Python, específicamente **NumPy** y **Matplotlib**\n",
        "2. Entender el uso de la clase `ndarray` de NumPy y sus ventajas\n",
        "3. Aprender las distintas partes de un gráfico en Matplotlib y como personalizarlas\n",
        " "
      ]
    },
    {
      "metadata": {
        "id": "yYEccQ8rYjGq",
        "colab_type": "text"
      },
      "cell_type": "markdown",
      "source": [
        "## Uso de Librerías \n",
        "\n",
        "Como se dijo en la clase introductoria, una de las ventajas que tiene Python como lenguaje de programación es el uso de paquetes (o librerías). Dos de las librerías más importantes en la ciencia son `NumPy` y `Matplotlib`, que permiten el manejo de matrices y gráficos. "
      ]
    },
    {
      "metadata": {
        "id": "cYSrYtCXYjGr",
        "colab_type": "text"
      },
      "cell_type": "markdown",
      "source": [
        "## NumPy \n",
        "(**[Documentación](http://www.numpy.org/)**, [Quickstart Tutorial](https://docs.scipy.org/doc/numpy/user/quickstart.html))\n",
        "\n",
        "NumPy es el paquete más básico para trabajar con datos en Python, consiste principalmente del objeto arreglo multidimensional y varias rutinas para trabajar estos objetos. Paquetes más sofisticados para el manejo de tablas o de algoritmos de Machine Learning tienen en su base a NumPy ya que permite la fácil manipulación de arreglos y matrices siendo también muy eficiente en la ejecución de operaciones matemáticas y lógicas entre ellos.\n",
        "\n",
        "### Ndarray \n",
        "\n",
        "En la base de NumPy se encuentra el objeto `ndarray`, que consiste en un arreglo multidimensional donde se almacenan elementos, todos del mismo tipo. Un arreglo es como una tabla a la que se accede mediante indices (**comenzando desde 0**). Las dimensiones de este arreglo son llamadas `axes` (ejes). \n",
        "![](https://raw.githubusercontent.com/astrodatos/Clase2/master/arrays.png)"
      ]
    },
    {
      "metadata": {
        "id": "c4ZGhS7bYjGs",
        "colab_type": "text"
      },
      "cell_type": "markdown",
      "source": [
        "### Diferencias entre las listas de python y los arreglos de numpy\n",
        "\n",
        "Antes de comenzar, veamos las diferencias más inmediatas entre usar arreglos de NumPy y listas de Python. "
      ]
    },
    {
      "metadata": {
        "id": "zCXiM-dMYjGt",
        "colab_type": "code",
        "colab": {}
      },
      "cell_type": "code",
      "source": [
        "import numpy as np    #Convención "
      ],
      "execution_count": 0,
      "outputs": []
    },
    {
      "metadata": {
        "id": "9j4PiAzDYjGx",
        "colab_type": "code",
        "colab": {}
      },
      "cell_type": "code",
      "source": [
        "# Inicializamos una lista, que podemos convertir a formato ndarray\n",
        "\n",
        "lista = [1,2,3,4,5,6,7,8,9,10]\n",
        "arreglo = np.array(lista)"
      ],
      "execution_count": 0,
      "outputs": []
    },
    {
      "metadata": {
        "id": "NKR1n6daYjG3",
        "colab_type": "code",
        "colab": {}
      },
      "cell_type": "code",
      "source": [
        "print('Lista:')\n",
        "print(lista)\n",
        "print('\\nArreglo:')\n",
        "print(arreglo)\n",
        "print('\\nClases:')\n",
        "print(type(lista))\n",
        "print(type(arreglo))"
      ],
      "execution_count": 0,
      "outputs": []
    },
    {
      "metadata": {
        "id": "_ME-l1Z7YjG6",
        "colab_type": "code",
        "colab": {}
      },
      "cell_type": "code",
      "source": [
        "#Ambas se indexan de maneras similares\n",
        "\n",
        "lista[0], arreglo[0]"
      ],
      "execution_count": 0,
      "outputs": []
    },
    {
      "metadata": {
        "id": "TZfQDQa9Z2ws",
        "colab_type": "text"
      },
      "cell_type": "markdown",
      "source": [
        "np operaciones c/u"
      ]
    },
    {
      "metadata": {
        "id": "DX5AO7JLYjG-",
        "colab_type": "text"
      },
      "cell_type": "markdown",
      "source": [
        "A simple vista los `ndarray` parecen ser similares a las listas, pero existen diferencias importantes en su manipulación y como estas interactuan entre ellas (al realizar operaciones)."
      ]
    },
    {
      "metadata": {
        "id": "fd1G-5EMYjG_",
        "colab_type": "code",
        "colab": {}
      },
      "cell_type": "code",
      "source": [
        "lista + lista"
      ],
      "execution_count": 0,
      "outputs": []
    },
    {
      "metadata": {
        "id": "kCNUphNHYjHE",
        "colab_type": "code",
        "colab": {}
      },
      "cell_type": "code",
      "source": [
        "arreglo + arreglo"
      ],
      "execution_count": 0,
      "outputs": []
    },
    {
      "metadata": {
        "id": "5WyCR0jFYjHL",
        "colab_type": "code",
        "colab": {}
      },
      "cell_type": "code",
      "source": [
        "np.concatenate([arreglo, arreglo])     # Se unen una serie de listas\n",
        "#np.append(arreglo, arreglo)            # Se agregan valores al final de un arreglo"
      ],
      "execution_count": 0,
      "outputs": []
    },
    {
      "metadata": {
        "id": "20l85rkWYjHP",
        "colab_type": "code",
        "colab": {}
      },
      "cell_type": "code",
      "source": [
        "lista * 2"
      ],
      "execution_count": 0,
      "outputs": []
    },
    {
      "metadata": {
        "id": "O3HTGHIlYjHS",
        "colab_type": "code",
        "colab": {}
      },
      "cell_type": "code",
      "source": [
        "arreglo * 2"
      ],
      "execution_count": 0,
      "outputs": []
    },
    {
      "metadata": {
        "id": "WJw4Jcu4YjHa",
        "colab_type": "code",
        "colab": {}
      },
      "cell_type": "code",
      "source": [
        "lista * lista"
      ],
      "execution_count": 0,
      "outputs": []
    },
    {
      "metadata": {
        "id": "rDv0TJZDYjHc",
        "colab_type": "code",
        "colab": {}
      },
      "cell_type": "code",
      "source": [
        "arreglo * arreglo"
      ],
      "execution_count": 0,
      "outputs": []
    },
    {
      "metadata": {
        "id": "MIUvdO1-YjHf",
        "colab_type": "text"
      },
      "cell_type": "markdown",
      "source": [
        "A diferencia de las listas de Python, los arreglos nos permiten realizar operaciones intuitivamente entre ellos, sin necesidad de acceder a ellas elemento por elemneto a través de loops. En los arrays las operaciones se realizan en **cada elemento** (similar a MATLAB).   "
      ]
    },
    {
      "metadata": {
        "id": "KlvAv_apYjHg",
        "colab_type": "text"
      },
      "cell_type": "markdown",
      "source": [
        "### Como se usan los arreglos\n",
        "\n",
        "Veamos como manipular estos objetos `ndarray`."
      ]
    },
    {
      "metadata": {
        "id": "g_bCJ6spYjHh",
        "colab_type": "code",
        "colab": {}
      },
      "cell_type": "code",
      "source": [
        "# Inicializar\n",
        "\n",
        "a1 = np.array([0,1,2,3,4,5,6,7,8,9,10])     # A partir de una lista\n",
        "a2 = np.arange(0,11,1)                      # start, stop, step (int)\n",
        "a3 = np.linspace(0,10,11)                   # start, stop, num=50 (float)\n",
        "\n",
        "z1 = np.zeros(10)                           # rellenar con 0\n",
        "z2 = np.empty(10)                           # rellenar con 'nada'\n",
        "z3 = np.ones(10)                            # rellenar con 1\n",
        "\n",
        "# 2D\n",
        "d1 = np.eye(5)                             # identidad\n",
        "d2 = np.zeros((5,5))                       "
      ],
      "execution_count": 0,
      "outputs": []
    },
    {
      "metadata": {
        "id": "pkXVRcGlYjHl",
        "colab_type": "code",
        "colab": {}
      },
      "cell_type": "code",
      "source": [
        "print(a1)\n",
        "print(a2)\n",
        "print(a3)"
      ],
      "execution_count": 0,
      "outputs": []
    },
    {
      "metadata": {
        "id": "K0rwlcAFYjHp",
        "colab_type": "code",
        "colab": {}
      },
      "cell_type": "code",
      "source": [
        "print('Arreglo de ceros:')\n",
        "print(z1)\n",
        "print('\\nArreglo \"vacío\":')\n",
        "print(z2)\n",
        "print('\\nArreglo de unos:')\n",
        "print(z3)"
      ],
      "execution_count": 0,
      "outputs": []
    },
    {
      "metadata": {
        "id": "Gv1YKg2dYjHt",
        "colab_type": "code",
        "colab": {}
      },
      "cell_type": "code",
      "source": [
        "print('Arreglos de 2 dimensiones:')\n",
        "print('\\nMatriz identidad:')\n",
        "print(d1)\n",
        "print('\\nMatriz de ceros:')\n",
        "print(d2)"
      ],
      "execution_count": 0,
      "outputs": []
    },
    {
      "metadata": {
        "id": "TMU_by03YjHw",
        "colab_type": "code",
        "colab": {}
      },
      "cell_type": "code",
      "source": [
        "# Inspeccionar\n",
        "print('A1:\\n{}'.format(a1))\n",
        "print('\\nD2:\\n{}'.format(d2))\n",
        "print('\\nForma (shape):\\n{}\\n{}'.format(a1.shape, d2.shape))\n",
        "print('\\nTamaño (size):\\n{}\\n{}'.format(a1.size, d2.size))\n",
        "print('\\nNumero de Dimensiones (ndim):\\n{}\\n{}'.format(a1.ndim, d2.ndim))\n",
        "print('\\nTipo de Dato (dtype):\\n{}\\n{}'.format(a1.dtype, d2.dtype))"
      ],
      "execution_count": 0,
      "outputs": []
    },
    {
      "metadata": {
        "id": "keRIObTlYjHy",
        "colab_type": "code",
        "colab": {}
      },
      "cell_type": "code",
      "source": [
        "# Re-sizing\n",
        "\n",
        "d1_resized = d1.reshape(d2.size)\n",
        "\n",
        "d1.shape, d1_resized.shape"
      ],
      "execution_count": 0,
      "outputs": []
    },
    {
      "metadata": {
        "id": "8J-OP-DOYjH1",
        "colab_type": "code",
        "colab": {}
      },
      "cell_type": "code",
      "source": [
        "# Random array\n",
        "\n",
        "r = np.random.randint(0,100,(8,8))"
      ],
      "execution_count": 0,
      "outputs": []
    },
    {
      "metadata": {
        "id": "1yfqDGEvYjH7",
        "colab_type": "code",
        "colab": {}
      },
      "cell_type": "code",
      "source": [
        "r"
      ],
      "execution_count": 0,
      "outputs": []
    },
    {
      "metadata": {
        "id": "Mv2tzV9aYjIB",
        "colab_type": "code",
        "colab": {}
      },
      "cell_type": "code",
      "source": [
        "# Slicing\n",
        "\n",
        "print('Primer elemento:')\n",
        "print(r[0,0])       #Comienza desde 0\n",
        "print('\\nUltimo elemento:')\n",
        "print(r[-1,-1])     # Anteponer - indexa desde el final\n",
        "print('\\nPor fila/columna:')\n",
        "print(r[0,:])       # : todos los elemnetos\n",
        "print(r[:,0])       \n",
        "print('\\nEspecificar slice:')\n",
        "print(r[0, 0:6:2])  # start:stop:step (0:-1:0)"
      ],
      "execution_count": 0,
      "outputs": []
    },
    {
      "metadata": {
        "id": "a3zvETVjYjIF",
        "colab_type": "code",
        "colab": {}
      },
      "cell_type": "code",
      "source": [
        "# Condiciones\n",
        "r[r > 50]"
      ],
      "execution_count": 0,
      "outputs": []
    },
    {
      "metadata": {
        "id": "0EFX4HnVYjIK",
        "colab_type": "code",
        "colab": {}
      },
      "cell_type": "code",
      "source": [
        "boolean = np.random.choice(a = [False, True], size = (8,8))\n",
        "print('Matriz con valores booleanos:')\n",
        "print(boolean)\n",
        "print('\\nArreglo con valores seleccionados:')\n",
        "print(r[boolean])"
      ],
      "execution_count": 0,
      "outputs": []
    },
    {
      "metadata": {
        "id": "vBJ6jxyZYjIN",
        "colab_type": "code",
        "colab": {}
      },
      "cell_type": "code",
      "source": [
        "# Copias\n",
        "\n",
        "todo = np.arange(10)\n",
        "par = todo[::2] \n",
        "\n",
        "print(todo)\n",
        "print(par)"
      ],
      "execution_count": 0,
      "outputs": []
    },
    {
      "metadata": {
        "id": "jkzz4iKiYjIP",
        "colab_type": "code",
        "colab": {}
      },
      "cell_type": "code",
      "source": [
        "par[0] = 100\n",
        "print(par)\n",
        "print(todo)"
      ],
      "execution_count": 0,
      "outputs": []
    },
    {
      "metadata": {
        "id": "xr3P-ZtGYjIR",
        "colab_type": "code",
        "colab": {}
      },
      "cell_type": "code",
      "source": [
        "par_copia = todo[::2].copy()\n",
        "par_copia[0] = 200\n",
        "\n",
        "print(todo)\n",
        "print(par)\n",
        "print(par_copia)"
      ],
      "execution_count": 0,
      "outputs": []
    },
    {
      "metadata": {
        "id": "EwDNjDOUYjIT",
        "colab_type": "code",
        "colab": {}
      },
      "cell_type": "code",
      "source": [
        "# Funciones \n",
        "\n",
        "print('Maximo e indice:')\n",
        "print(todo.max())\n",
        "print(todo.argmax())\n",
        "print('\\nMinimo e indice:')\n",
        "print(todo.min())\n",
        "print(todo.argmin())\n",
        "print('\\nPromedio:')\n",
        "print(todo.mean())\n",
        "print('\\nSuma:')\n",
        "print(todo.sum())\n",
        "print('\\nSuma Acumulada:')\n",
        "print(todo.cumsum())"
      ],
      "execution_count": 0,
      "outputs": []
    },
    {
      "metadata": {
        "id": "esJziJC4YjIW",
        "colab_type": "code",
        "colab": {}
      },
      "cell_type": "code",
      "source": [
        "print(r)\n",
        "print('\\nMaximo por fila/columna:')\n",
        "print(r.max(axis=0))     #fila               \n",
        "print(r.max(axis=1))     #columna               "
      ],
      "execution_count": 0,
      "outputs": []
    },
    {
      "metadata": {
        "id": "X5eVaUQWYjId",
        "colab_type": "code",
        "colab": {}
      },
      "cell_type": "code",
      "source": [
        "#Algebra Lineal\n",
        "\n",
        "A = np.array([[0, 1], [0, 2]])\n",
        "B = np.array([[2, 0], [3, 4]])\n",
        "\n",
        "print('A:\\n', A, \"\\n\")\n",
        "print('B:\\n', B, \"\\n\")\n",
        "print('B.T:\\n', B.T, \"\\n\")\n",
        "print('A + B:\\n',A + B, \"\\n\")\n",
        "print('A * B:\\n',A * B, \"\\n\")\n",
        "print('A**B:\\n', A**B, \"\\n\")"
      ],
      "execution_count": 0,
      "outputs": []
    },
    {
      "metadata": {
        "id": "oHM230iIYjIl",
        "colab_type": "code",
        "colab": {}
      },
      "cell_type": "code",
      "source": [
        "print(\"transpose B:\\n\", np.transpose(B), '\\n')\n",
        "print(\"add A + B:\\n\", np.add(A, B), '\\n')\n",
        "print(\"multiply A * B:\\n\", np.multiply(A, B), '\\n') #c/u\n",
        "print(\"power A ** B:\\n\", np.power(A, B), '\\n')\n",
        "print(\"exp B:\\n\", np.exp(B), '\\n')\n",
        "print(\"sqrt B:\\n\", np.sqrt(B), '\\n')\n",
        "print(\"sin B:\\n\", np.sin(B), '\\n')"
      ],
      "execution_count": 0,
      "outputs": []
    },
    {
      "metadata": {
        "id": "_T2BMewxYjIo",
        "colab_type": "code",
        "colab": {}
      },
      "cell_type": "code",
      "source": [
        "print('Multiplicación de Matrices:\\n')\n",
        "\n",
        "print(np.dot(A,B))\n",
        "print(A.dot(B))\n",
        "\n",
        "print('\\n', np.dot(B,A))\n",
        "print(B.dot(A))"
      ],
      "execution_count": 0,
      "outputs": []
    },
    {
      "metadata": {
        "id": "M67HnTvYYjIu",
        "colab_type": "code",
        "colab": {}
      },
      "cell_type": "code",
      "source": [
        "a = np.array([[1.0, 2.0], [3.0, 4.0]])\n",
        "\n",
        "print('Matriz a:\\n', a)\n",
        "print('\\nTranspuesta de a:\\n', a.transpose())\n",
        "print('\\nTraza de a:\\n', np.trace(a))\n",
        "print('\\nNorma de a:\\n', np.linalg.norm(a))\n",
        "print('\\nDeterminante de a:\\n', np.linalg.det(a))\n",
        "print('\\nInversa de a:\\n', np.linalg.inv(a))\n",
        "print('\\nValores y Vectores propios:\\n', np.linalg.eig(a))\n",
        "print('\\nValores propios:\\n', np.linalg.eigvals(a))\n",
        "print('\\nDecomposición de Cholesky (matrices triangulares):\\n', np.linalg.cholesky(a.dot(a.T)))\n",
        "print('\\nPotencia a ** 2:\\n', np.linalg.matrix_power(a, 2))"
      ],
      "execution_count": 0,
      "outputs": []
    },
    {
      "metadata": {
        "id": "CBXwVivmYjI1",
        "colab_type": "text"
      },
      "cell_type": "markdown",
      "source": [
        "### Diferencia en rendimiento \n",
        "\n",
        "Ahora que ya sabemos la diferencia en el comportamiento de los arreglos y las listas, comparemos como se comporta su rendimiento al momento de realizar operaciones matemáticas entre ellos.\n",
        "\n",
        "Usaremos como motivación el cálculo de el centro de masa de un conjunto de partículas en 3 dimensiones.\n",
        "\n",
        "$\\vec{R} = \\frac{1}{M_{TOT}} \\sum_{i=1}^{n} m_i \\vec{r_i}$\n",
        "\n",
        "$(x,y,z) = \\frac{1}{M_{TOT}}  (\\sum_{i=1}^{n} m_i x_i, \\sum_{i=1}^{n} m_i y_i,  \\sum_{i=1}^{n} m_i z_i)$\n",
        "\n",
        "Comenzaremos implementando el cálculo usando listas y luego a través de arreglos."
      ]
    },
    {
      "metadata": {
        "id": "QPQ4ifuEYjI4",
        "colab_type": "code",
        "colab": {}
      },
      "cell_type": "code",
      "source": [
        "#Ejemplo de tiempos\n",
        "\n",
        "# Inicializar las posiciones de las partículas\n",
        "x = [np.random.uniform(0,100) for i in range(1000000)]\n",
        "y = [np.random.uniform(0,100) for i in range(1000000)]\n",
        "z = [np.random.uniform(0,100) for i in range(1000000)]\n",
        "m = [np.random.uniform(1,10) for i in range(1000000)]\n",
        "\n",
        "\n",
        "#Calculo del Centro de Masa (dentro de una función para tomar el tiempo de ejecución)\n",
        "\n",
        "def cm_listas(x, y, z, m): \n",
        "    xmsum = 0\n",
        "    ymsum = 0\n",
        "    zmsum = 0\n",
        "    for j in range(len(x)):\n",
        "        xmsum += x[j]*m[j]  \n",
        "        ymsum += y[j]*m[j]\n",
        "        zmsum += z[j]*m[j]\n",
        "        \n",
        "    xcm = xmsum/sum(m) \n",
        "    ycm = ymsum/sum(m)\n",
        "    zcm = zmsum/sum(m)\n",
        "    \n",
        "    return xcm, ycm, zcm"
      ],
      "execution_count": 0,
      "outputs": []
    },
    {
      "metadata": {
        "id": "xvq8y3iSYjJC",
        "colab_type": "code",
        "colab": {}
      },
      "cell_type": "code",
      "source": [
        "%timeit cm_listas(x, y, z, m)"
      ],
      "execution_count": 0,
      "outputs": []
    },
    {
      "metadata": {
        "id": "KKF1oHO8YjJL",
        "colab_type": "code",
        "colab": {}
      },
      "cell_type": "code",
      "source": [
        "# Transformamos las listas en arreglos\n",
        "x_np = np.asarray(x)\n",
        "y_np = np.asarray(y)\n",
        "z_np = np.asarray(z)\n",
        "m_np = np.asarray(m)\n",
        "\n",
        "#Calculo del Centro de Masa con arreglos\n",
        "\n",
        "def cm_array(x, y, z, m):\n",
        "    xcm = np.sum(x * m) / m.sum()\n",
        "    ycm = np.sum(y * m) / m.sum()\n",
        "    zcm = np.sum(z * m) / m.sum()\n",
        "    return xcm, ycm, zcm"
      ],
      "execution_count": 0,
      "outputs": []
    },
    {
      "metadata": {
        "id": "7VXN1OdYYjJR",
        "colab_type": "code",
        "colab": {}
      },
      "cell_type": "code",
      "source": [
        "%timeit cm_array(x_np, y_np, z_np, m_np)"
      ],
      "execution_count": 0,
      "outputs": []
    },
    {
      "metadata": {
        "id": "wKHpD2sqYjJV",
        "colab_type": "text"
      },
      "cell_type": "markdown",
      "source": [
        "### Guardar y Leer archivos"
      ]
    },
    {
      "metadata": {
        "id": "LO2GpXL8YjJW",
        "colab_type": "code",
        "colab": {}
      },
      "cell_type": "code",
      "source": [
        "# Save\n",
        "\n",
        "to_save = np.random.random(10)\n",
        "np.save('nuevo_array', to_save)           # Guarda como archivo numpy (extensión .npy)\n",
        "np.savetxt('nuevo_array.txt', to_save)    # Guarda como archivo de texto"
      ],
      "execution_count": 0,
      "outputs": []
    },
    {
      "metadata": {
        "id": "87bX5xOAf-F2",
        "colab_type": "code",
        "colab": {}
      },
      "cell_type": "code",
      "source": [
        "#!ls para leer los archihvos de la carpeta"
      ],
      "execution_count": 0,
      "outputs": []
    },
    {
      "metadata": {
        "id": "23UgJOy8YjJY",
        "colab_type": "text"
      },
      "cell_type": "markdown",
      "source": [
        "Carguemos como ejemplo un archivo con los periodos, amplitudes y magnitudes de un set de estrellas variables tipo [RR Lyrae](https://es.wikipedia.org/wiki/RR_Lyrae).\n",
        "\n",
        "![](https://raw.githubusercontent.com/astrodatos/Clase2/master/datos.png)"
      ]
    },
    {
      "metadata": {
        "id": "vLpzGU_eYjJa",
        "colab_type": "code",
        "colab": {}
      },
      "cell_type": "code",
      "source": [
        "# Load\n",
        "\n",
        "archivo_RR = 'https://raw.githubusercontent.com/astrodatos/Clase2/master/datos/RRLYR.txt'\n",
        "\n",
        "rrlyr = np.loadtxt(archivo_RR)"
      ],
      "execution_count": 0,
      "outputs": []
    },
    {
      "metadata": {
        "id": "wDRT146CYjJf",
        "colab_type": "code",
        "colab": {}
      },
      "cell_type": "code",
      "source": [
        "rrlyr.shape"
      ],
      "execution_count": 0,
      "outputs": []
    },
    {
      "metadata": {
        "id": "y_heWHJMYjJm",
        "colab_type": "text"
      },
      "cell_type": "markdown",
      "source": [
        "## Matplotlib\n",
        "\n",
        "([**Documentación**](https://matplotlib.org/), [Quickstart Tutorial](https://matplotlib.org/users/pyplot_tutorial.html))\n",
        "\n",
        "\n",
        "Matplotlib es bacan pa plotear!"
      ]
    },
    {
      "metadata": {
        "id": "EdykNj0aYjJm",
        "colab_type": "code",
        "colab": {}
      },
      "cell_type": "code",
      "source": [
        "import matplotlib.pyplot as plt"
      ],
      "execution_count": 0,
      "outputs": []
    },
    {
      "metadata": {
        "id": "s6ij43WzYjJq",
        "colab_type": "text"
      },
      "cell_type": "markdown",
      "source": [
        "#### Plost Simple\n",
        "\n",
        "Tomaremos como ejemplo dos estrellas de este catálogo y veremos sus Curvas de Luz, esta son curvas de la evolución temporal del brillo de una fuente."
      ]
    },
    {
      "metadata": {
        "id": "YJM9W3aNYjJt",
        "colab_type": "code",
        "colab": {}
      },
      "cell_type": "code",
      "source": [
        "# Cargar archivos con curvas de luz RR Lyrae\n",
        "\n",
        "archivo_RR1 = 'https://raw.githubusercontent.com/astrodatos/Clase2/master/datos/RRLYR-16474.dat'\n",
        "archivo_RR2 = 'https://raw.githubusercontent.com/astrodatos/Clase2/master/datos/RRLYR-16514.dat'\n",
        "\n",
        "rr1 = np.loadtxt(archivo_RR1)\n",
        "rr2 = np.loadtxt(archivo_RR2)"
      ],
      "execution_count": 0,
      "outputs": []
    },
    {
      "metadata": {
        "id": "zKnV7n3KYjJ1",
        "colab_type": "code",
        "colab": {}
      },
      "cell_type": "code",
      "source": [
        "fecha_1 = rr1[:,0].copy()\n",
        "mag_1 = rr1[:,1].copy()\n",
        "\n",
        "fecha_2 = rr2[:,0].copy()\n",
        "mag_2 = rr2[:,1].copy()\n",
        "\n",
        "plt.plot(fecha_1, mag_1)\n",
        "\n",
        "#Jugar con markers ls, lw, color, etc"
      ],
      "execution_count": 0,
      "outputs": []
    },
    {
      "metadata": {
        "id": "2WWJ-xSBYjJ3",
        "colab_type": "code",
        "colab": {}
      },
      "cell_type": "code",
      "source": [
        "plt.show()"
      ],
      "execution_count": 0,
      "outputs": []
    },
    {
      "metadata": {
        "id": "3UQ20X7fYjJ4",
        "colab_type": "code",
        "colab": {}
      },
      "cell_type": "code",
      "source": [
        "plt.show()"
      ],
      "execution_count": 0,
      "outputs": []
    },
    {
      "metadata": {
        "id": "3ZOiFpgSYjJ8",
        "colab_type": "code",
        "colab": {}
      },
      "cell_type": "code",
      "source": [
        "%matplotlib inline\n",
        "plt.plot(fecha_1, mag_1, 'o--', label = 'RRLYR 16474')\n",
        "plt.plot(fecha_2, mag_2, 'o--', label = 'RRLYR 16514')\n",
        "\n",
        "plt.xlabel('Fecha DJ')\n",
        "plt.ylabel('Magnitud Aparente I')"
      ],
      "execution_count": 0,
      "outputs": []
    },
    {
      "metadata": {
        "id": "DHmKibwjYjJ_",
        "colab_type": "code",
        "colab": {}
      },
      "cell_type": "code",
      "source": [
        "from matplotlib.pyplot import rcParams\n",
        "\n",
        "params = {'legend.fontsize': 'x-large',\n",
        "         'axes.labelsize': 'x-large',\n",
        "         'axes.titlesize':'x-large',\n",
        "         'xtick.labelsize':'x-large',\n",
        "         'ytick.labelsize':'x-large'}\n",
        "rcParams.update(params)\n"
      ],
      "execution_count": 0,
      "outputs": []
    },
    {
      "metadata": {
        "id": "DAx_RY-1YjKB",
        "colab_type": "code",
        "colab": {}
      },
      "cell_type": "code",
      "source": [
        "plt.plot(fecha_1, mag_1, 'o--', label = 'RRLYR 16474')\n",
        "plt.plot(fecha_2, mag_2, 'o--', label = 'RRLYR 16514')\n",
        "\n",
        "plt.xlabel('Fecha DJ')\n",
        "plt.ylabel('Magnitud Aparente I')"
      ],
      "execution_count": 0,
      "outputs": []
    },
    {
      "metadata": {
        "id": "aaiktHjMYjKH",
        "colab_type": "text"
      },
      "cell_type": "markdown",
      "source": [
        "#### Subplots"
      ]
    },
    {
      "metadata": {
        "id": "7JwcJVy7YjKJ",
        "colab_type": "code",
        "colab": {}
      },
      "cell_type": "code",
      "source": [
        "# Sacar del primer archivo los peridos correspondiente\n",
        "P1 = rrlyr[rrlyr[:,0] == 16474, 5]\n",
        "P2 = rrlyr[rrlyr[:,0] == 16514, 5]\n",
        "\n",
        "# 'Foldear' la curva\n",
        "fecha_1 = fecha_1 % (2 * P1)\n",
        "fecha_2 = fecha_2 % (2 * P2)"
      ],
      "execution_count": 0,
      "outputs": []
    },
    {
      "metadata": {
        "id": "2to7kUL6YjKP",
        "colab_type": "code",
        "colab": {}
      },
      "cell_type": "code",
      "source": [
        "plt.figure(figsize=(15,5)) #tamaño figura\n",
        "plt.subplot(121) #subdivision(FilaColumna)\n",
        "plt.plot(rr1[:,0], mag_1, '.', label = 'RRLYR 16474')\n",
        "plt.plot(rr2[:,0], mag_2, '.', label = 'RRLYR 16514')\n",
        "plt.xlabel('Tiempo de Observación [JD]')\n",
        "plt.ylabel('Magnitud Aparente I')\n",
        "plt.legend()\n",
        "\n",
        "\n",
        "plt.subplot(122)\n",
        "plt.errorbar(fecha_1, mag_1, yerr=rr1[:,-1], fmt='.', label = 'RRLYR 16474')\n",
        "plt.errorbar(fecha_2, mag_2, yerr=rr2[:,-1], fmt='.', label = 'RRLYR 16514')\n",
        "plt.xlabel('Fase')\n",
        "plt.ylabel('Magnitud Aparente I')\n",
        "plt.legend()"
      ],
      "execution_count": 0,
      "outputs": []
    },
    {
      "metadata": {
        "id": "3GyrPNqYYjKV",
        "colab_type": "code",
        "colab": {}
      },
      "cell_type": "code",
      "source": [
        "fig, ax = plt.subplots(figsize = (15,5), ncols = 2) #ncols numero de columnas | nrows nuumero de filas\n",
        "#primer espacio\n",
        "ax[0].plot(rr1[:,0], mag_1, 'o', label = 'RRLYR 16474')\n",
        "ax[0].plot(rr2[:,0], mag_2, 'o', label = 'RRLYR 16514')\n",
        "ax[0].set_title('Curva de luz original')\n",
        "ax[0].set_xlabel('Tiempo de Observación [JD]')\n",
        "ax[0].set_ylabel('Magnitud')\n",
        "ax[0].legend(loc = 'upper right')\n",
        "#segundo espacio\n",
        "ax[1].errorbar(fecha_1, mag_1, yerr=rr1[:,-1], fmt='o', label = 'RRLYR 16474')\n",
        "ax[1].errorbar(fecha_2, mag_2, yerr=rr2[:,-1], fmt='o', label = 'RRLYR 16514')\n",
        "ax[1].set_title('Curva de luz foldeada')\n",
        "ax[1].set_xlabel('Fase [Días]')\n",
        "ax[1].set_ylabel('Magnitud')\n",
        "ax[1].legend()\n",
        "\n",
        "plt.tight_layout()"
      ],
      "execution_count": 0,
      "outputs": []
    },
    {
      "metadata": {
        "id": "hPj1VQ5iYjKY",
        "colab_type": "text"
      },
      "cell_type": "markdown",
      "source": [
        "#### Color bars\n",
        "\n",
        "\n",
        "Cargamos otras estrellas [Cefeidas Tipo I](https://es.wikipedia.org/wiki/Estrella_variable_Cefeida)"
      ]
    },
    {
      "metadata": {
        "id": "7-BwkXcVYjKY",
        "colab_type": "code",
        "colab": {}
      },
      "cell_type": "code",
      "source": [
        "archivo_CEP = 'https://raw.githubusercontent.com/astrodatos/Clase2/master/datos/CEP.txt'\n",
        "\n",
        "cep = np.loadtxt(archivo_CEP)"
      ],
      "execution_count": 0,
      "outputs": []
    },
    {
      "metadata": {
        "id": "9UMNOSyfYjKc",
        "colab_type": "code",
        "colab": {}
      },
      "cell_type": "code",
      "source": [
        "cep.shape"
      ],
      "execution_count": 0,
      "outputs": []
    },
    {
      "metadata": {
        "id": "X2cklWhWYjKf",
        "colab_type": "code",
        "colab": {}
      },
      "cell_type": "code",
      "source": [
        "# Seleccionar columnas \n",
        "\n",
        "i_cep = cep[:,3] #magnitud\n",
        "p_cep = cep[:,5] #periodo\n",
        "a_cep = cep[:,-1] #amplitud\n",
        "\n",
        "i_rrlyr = rrlyr[:,3]\n",
        "p_rrlyr = rrlyr[:,5]\n",
        "a_rrlyr = rrlyr[:,-1]"
      ],
      "execution_count": 0,
      "outputs": []
    },
    {
      "metadata": {
        "id": "3dtWaRccYjKh",
        "colab_type": "code",
        "colab": {}
      },
      "cell_type": "code",
      "source": [
        "fig, ax = plt.subplots(figsize = (10,6))\n",
        "\n",
        "cb = ax.scatter(p_cep, i_cep, label = 'Cefeidas Tipo I', c = a_cep, alpha = 0.5, cmap='vorodis')\n",
        "#grafica como puntos separados\n",
        "#alpha es la transparencia (aumenta con esta)\n",
        "#cmap mapas de colores zB 'inferno' 'viridis' ''\n",
        "\n",
        "fig.colorbar(cb) #muestra la escala\n",
        "ax.set_xscale('log')\n",
        "ax.invert_yaxis()\n",
        "ax.set_ylabel('Magnitud I')\n",
        "ax.set_xlabel('Periodo')\n",
        "ax.set_title('Relación Periodo-Luminosidad')\n",
        "ax.legend()"
      ],
      "execution_count": 0,
      "outputs": []
    },
    {
      "metadata": {
        "id": "t558_wI4YjKj",
        "colab_type": "code",
        "colab": {}
      },
      "cell_type": "code",
      "source": [
        "fig, ax = plt.subplots(figsize = (10,10), nrows = 2, sharex=True)\n",
        "\n",
        "cb = ax[0].scatter(p_cep, i_cep, label = 'Cefeidas Tipo I', c = a_cep, alpha = 0.5)\n",
        "\n",
        "fig.colorbar(cb, ax = ax[0])\n",
        "ax[0].set_xscale('log')\n",
        "ax[0].invert_yaxis()\n",
        "ax[0].set_ylabel('Magnitud I')\n",
        "ax[0].set_xlabel('Periodo')\n",
        "ax[0].set_title('Relación Periodo-Luminosidad')\n",
        "ax[0].legend()\n",
        "\n",
        "cb2 = ax[1].scatter(p_rrlyr, i_rrlyr, label = 'RR Lyrae', c = a_rrlyr, alpha = 0.5)\n",
        "\n",
        "fig.colorbar(cb2, ax = ax[1])\n",
        "ax[1].set_xscale('log')\n",
        "ax[1].invert_yaxis()\n",
        "ax[1].set_ylabel('Magnitud I')\n",
        "ax[1].set_xlabel('Periodo')\n",
        "ax[1].set_title('Relación Periodo-Luminosidad')\n",
        "ax[1].legend()\n",
        "\n",
        "fig.tight_layout()"
      ],
      "execution_count": 0,
      "outputs": []
    },
    {
      "metadata": {
        "id": "1o0G_fZ3YjKl",
        "colab_type": "text"
      },
      "cell_type": "markdown",
      "source": [
        "![](https://matplotlib.org/_images/sphx_glr_anatomy_001.png)"
      ]
    },
    {
      "metadata": {
        "id": "bglYW2U0YjKm",
        "colab_type": "code",
        "colab": {}
      },
      "cell_type": "code",
      "source": [
        "#Guardar plots\n",
        "plt.savefig('name.png')"
      ],
      "execution_count": 0,
      "outputs": []
    }
  ]
}